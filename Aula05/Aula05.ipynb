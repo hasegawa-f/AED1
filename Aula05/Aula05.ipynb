{
 "cells": [
  {
   "cell_type": "code",
   "execution_count": 17,
   "id": "b9a3b451-82c0-4e8e-b202-0fdaa888f0af",
   "metadata": {},
   "outputs": [
    {
     "name": "stdout",
     "output_type": "stream",
     "text": [
      "4\n",
      "5\n",
      "True\n"
     ]
    }
   ],
   "source": [
    "x = 4\n",
    "y = 5\n",
    "\n",
    "print (x)\n",
    "print (y)\n",
    "\n",
    "def true_or_false(z, r):\n",
    "    if z < r:\n",
    "        return True\n",
    "    else:\n",
    "        return False\n",
    "\n",
    "z = true_or_false(x, y)\n",
    "\n",
    "print (z)"
   ]
  },
  {
   "cell_type": "code",
   "execution_count": 77,
   "id": "8b4e0487-d6e0-4421-bf2b-151c0497dcd9",
   "metadata": {},
   "outputs": [
    {
     "name": "stdin",
     "output_type": "stream",
     "text": [
      "Digite o primeiro numero: 5\n",
      "Digite o segundo numero: 0\n",
      "Qual operação deseja fazer? 1 - soma | 2 - subtração | 3 - multiplicação | 4 - divisão | 0 - sair: 4\n"
     ]
    },
    {
     "name": "stdout",
     "output_type": "stream",
     "text": [
      "first: 5 | second: 0 | operation: 4\n",
      "Não há divisão por zero!\n"
     ]
    }
   ],
   "source": [
    "first = int(input(\"Digite o primeiro número:\"))\n",
    "second = int(input(\"Digite o segundo número:\"))\n",
    "\n",
    "opt = int(input(\"Qual operação deseja fazer? 1 - soma | 2 - subtração | 3 - multiplicação | 4 - divisão | 0 - sair:\"))\n",
    "\n",
    "print (f'first: {first} | second: {second} | operation: {opt}')\n",
    "\n",
    "if (opt == 1):\n",
    "    result = first + second\n",
    "    print (f'Resultado: {result}')\n",
    "elif (opt == 2):\n",
    "    result = first - second\n",
    "    print (f'Resultado: {result}')\n",
    "elif (opt == 3):\n",
    "    result = first * second\n",
    "    print (f'Resultado: {result}')\n",
    "elif (opt == 4):\n",
    "    if (second == 0):\n",
    "        print ('Não há divisão por zero!')\n",
    "    else:\n",
    "        result = first / second\n",
    "        print (f'Resultado: {result}')\n",
    "elif (opt == 0):\n",
    "    print ('Cancelando . . .')\n",
    "else:\n",
    "    print ('Operação inválida')\n",
    "\n"
   ]
  },
  {
   "cell_type": "code",
   "execution_count": 37,
   "id": "171af7cb-3bf7-4b31-a377-bb2bcb1c7598",
   "metadata": {},
   "outputs": [],
   "source": [
    "from math import sqrt"
   ]
  },
  {
   "cell_type": "code",
   "execution_count": 83,
   "id": "13e86dc9-ad27-456c-bd0f-6265b4101f26",
   "metadata": {},
   "outputs": [
    {
     "name": "stdout",
     "output_type": "stream",
     "text": [
      "primeiro resultado: 2.0\n",
      "segundo resultado: -1.7834936490538904\n"
     ]
    }
   ],
   "source": [
    "# from math import * => improta todos as funções do módulo\n",
    "# import math => importa o módulo todo\n",
    "# from math import sqrt => importa apenas a função sqrt\n",
    "\n",
    "\n",
    "A = 2\n",
    "B = 6\n",
    "C = 3\n",
    "D = 4\n",
    "E = 8\n",
    "F = 4\n",
    "\n",
    "x = (A + (B / C)) / (D - (E / F))\n",
    "\n",
    "print (f'primeiro resultado: {x}')\n",
    "\n",
    "x = 2\n",
    "\n",
    "y = (((2 * (x ** 2) - 3 * (x ** (x + 1))) / 2) + (sqrt(x + 1) / x)) / (2 ** x)\n",
    "\n",
    "print (f'segundo resultado: {y}')"
   ]
  },
  {
   "cell_type": "code",
   "execution_count": null,
   "id": "90a517ae-4985-495a-abff-e366dbf3a7ac",
   "metadata": {},
   "outputs": [],
   "source": []
  }
 ],
 "metadata": {
  "kernelspec": {
   "display_name": "Python 3 (ipykernel)",
   "language": "python",
   "name": "python3"
  },
  "language_info": {
   "codemirror_mode": {
    "name": "ipython",
    "version": 3
   },
   "file_extension": ".py",
   "mimetype": "text/x-python",
   "name": "python",
   "nbconvert_exporter": "python",
   "pygments_lexer": "ipython3",
   "version": "3.13.5"
  }
 },
 "nbformat": 4,
 "nbformat_minor": 5
}
