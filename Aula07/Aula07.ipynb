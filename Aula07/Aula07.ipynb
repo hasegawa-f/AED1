{
 "cells": [
  {
   "cell_type": "code",
   "execution_count": 6,
   "id": "0f9245cc-39ea-430d-a425-6720da641986",
   "metadata": {},
   "outputs": [
    {
     "name": "stdout",
     "output_type": "stream",
     "text": [
      "Contagem regressiva de 1 passo\n"
     ]
    },
    {
     "name": "stdin",
     "output_type": "stream",
     "text": [
      "Digite o primeiro numero, o maior 1\n",
      "Digite o último número, o menor 10\n"
     ]
    },
    {
     "name": "stdout",
     "output_type": "stream",
     "text": [
      "Erro! Primeiro número menor ou igual ao segundo\n"
     ]
    }
   ],
   "source": [
    "# Se a variável de interação não é utilizada, pode-se substituir por \"_\" \n",
    "\n",
    "# Contagem regressiva de 10 a 1\n",
    "# for i in range(10, 0, -1):\n",
    "#     print(i)\n",
    "\n",
    "print('Contagem regressiva de 1 passo')\n",
    "first_n = int(input('Digite o primeiro numero, o maior'))\n",
    "last_n = int(input('Digite o último número, o menor'))\n",
    "last_n = last_n - 1\n",
    "\n",
    "if first_n <= last_n:\n",
    "    print('Erro! Primeiro número menor ou igual ao segundo')\n",
    "else:\n",
    "    for i in range(first_n, last_n, -1):\n",
    "        print(i)"
   ]
  },
  {
   "cell_type": "code",
   "execution_count": 25,
   "id": "882e3e9f-55de-4fda-b96b-1886d090c9f2",
   "metadata": {},
   "outputs": [
    {
     "name": "stdout",
     "output_type": "stream",
     "text": [
      "U\n",
      "m\n",
      "a\n",
      " \n",
      "f\n",
      "r\n",
      "a\n",
      "s\n",
      "e\n",
      " \n",
      "q\n",
      "u\n",
      "a\n",
      "l\n",
      "q\n",
      "u\n",
      "e\n",
      "r\n"
     ]
    }
   ],
   "source": [
    "# Lemrbando que uma string também é iterável\n",
    "# Print em cada letra de uma frase\n",
    "\n",
    "for caracter in 'Uma frase qualquer':\n",
    "    print(caracter)"
   ]
  },
  {
   "cell_type": "code",
   "execution_count": 14,
   "id": "d11b3a2d-98eb-487f-b70d-0166ecb9e81d",
   "metadata": {},
   "outputs": [
    {
     "name": "stdout",
     "output_type": "stream",
     "text": [
      "Calculo de fatorial\n"
     ]
    },
    {
     "name": "stdin",
     "output_type": "stream",
     "text": [
      "Digite o número do fatorial desejado: 5\n"
     ]
    },
    {
     "name": "stdout",
     "output_type": "stream",
     "text": [
      "Fatorial de 5 é igual a 120\n"
     ]
    }
   ],
   "source": [
    "# Fatorial utilizando 'for'\n",
    "\n",
    "print('Calculo de fatorial')\n",
    "n = int(input('Digite o número do fatorial desejado:'))\n",
    "fatorial = 1\n",
    "\n",
    "if n < 0:\n",
    "    print('Erro! Não existe fatorial de número negativo!')\n",
    "elif n == 0:\n",
    "    print('Fatorial de 0 (zero) é igual a 1')\n",
    "else:\n",
    "    for i in range(1, n+1):\n",
    "        fatorial = fatorial * i\n",
    "    print('Fatorial de', n, 'é igual a', fatorial)"
   ]
  },
  {
   "cell_type": "code",
   "execution_count": 27,
   "id": "51923dd9-7f36-4ee9-8f99-02b43200d253",
   "metadata": {},
   "outputs": [
    {
     "name": "stdout",
     "output_type": "stream",
     "text": [
      "0 x 1 = 0\n",
      "0 x 2 = 0\n",
      "0 x 3 = 0\n",
      " ------ \n",
      "1 x 1 = 1\n",
      "1 x 2 = 2\n",
      "1 x 3 = 3\n",
      " ------ \n",
      "2 x 1 = 2\n",
      "2 x 2 = 4\n",
      "2 x 3 = 6\n",
      " ------ \n",
      "3 x 1 = 3\n",
      "3 x 2 = 6\n",
      "3 x 3 = 9\n",
      " ------ \n",
      "4 x 1 = 4\n",
      "4 x 2 = 8\n",
      "4 x 3 = 12\n",
      " ------ \n"
     ]
    }
   ],
   "source": [
    "# For aninhado (for dentro de for)\n",
    "\n",
    "# Multiplicando todos os elementos de uma lista por todos os elementos de outra lista\n",
    "lista_1 = [0, 1, 2, 3, 4]\n",
    "lista_2 = [1, 2, 3]\n",
    "\n",
    "for n1 in lista_1:\n",
    "    for n2 in lista_2:\n",
    "        print(n1, 'x', n2, '=', n1 * n2)\n",
    "    print(' ------ ')"
   ]
  },
  {
   "cell_type": "code",
   "execution_count": 18,
   "id": "e9a9d442-7048-4775-862c-e16130598612",
   "metadata": {},
   "outputs": [
    {
     "name": "stdout",
     "output_type": "stream",
     "text": [
      "Tabuada de um número\n"
     ]
    },
    {
     "name": "stdin",
     "output_type": "stream",
     "text": [
      "Digite o número (positivo) do qual deseja a tabuada: 9\n"
     ]
    },
    {
     "name": "stdout",
     "output_type": "stream",
     "text": [
      "9 x 1 = 9\n",
      "9 x 2 = 18\n",
      "9 x 3 = 27\n",
      "9 x 4 = 36\n",
      "9 x 5 = 45\n",
      "9 x 6 = 54\n",
      "9 x 7 = 63\n",
      "9 x 8 = 72\n",
      "9 x 9 = 81\n",
      "9 x 10 = 90\n"
     ]
    }
   ],
   "source": [
    "# Tabuada de um número, utilizando while\n",
    "\n",
    "print('Tabuada de um número')\n",
    "n = int(input('Digite o número (positivo) do qual deseja a tabuada:'))\n",
    "\n",
    "if n < 0:\n",
    "    print('Erro! Número negativo!')\n",
    "elif n == 0:\n",
    "    print('Erro! Número digitado foi zero!')\n",
    "else:\n",
    "    i = 1\n",
    "    while i <= 10:\n",
    "        print(f'{n} x {i} = {n * i}')\n",
    "        i = i + 1"
   ]
  },
  {
   "cell_type": "code",
   "execution_count": 22,
   "id": "1c51d09e-e668-4acb-9bb8-23c99bcf3971",
   "metadata": {},
   "outputs": [
    {
     "name": "stdout",
     "output_type": "stream",
     "text": [
      "Média aritmética de números\n"
     ]
    },
    {
     "name": "stdin",
     "output_type": "stream",
     "text": [
      "Digite o número para somar: <-1 para sair> 30\n",
      "Digite o número para somar: <-1 para sair> 25\n",
      "Digite o número para somar: <-1 para sair> 20\n",
      "Digite o número para somar: <-1 para sair> 5\n",
      "Digite o número para somar: <-1 para sair> 4\n",
      "Digite o número para somar: <-1 para sair> -1\n"
     ]
    },
    {
     "name": "stdout",
     "output_type": "stream",
     "text": [
      "A média dos números é igual a 16.8\n"
     ]
    }
   ],
   "source": [
    "# Média de uma quantidade indefinida de números\n",
    "\n",
    "print('Média aritmética de números')\n",
    "soma = 0\n",
    "qtdd = 0\n",
    "n = 0\n",
    "while n != -1:\n",
    "    n = int(input('Digite o número para somar <-1 para sair>:'))\n",
    "    if (n != -1):\n",
    "        soma = soma + n\n",
    "        qtdd = qtdd + 1\n",
    "media = soma / qtdd\n",
    "print('A média dos números é igual a', media)"
   ]
  },
  {
   "cell_type": "code",
   "execution_count": 24,
   "id": "1577b776-4af2-4840-94c9-a5c6457439bb",
   "metadata": {},
   "outputs": [
    {
     "name": "stdout",
     "output_type": "stream",
     "text": [
      "O número é 1\n",
      "O número é 3\n",
      "O número é 5\n",
      "O número é 7\n",
      "O número é 9\n"
     ]
    }
   ],
   "source": [
    "# 'break' e 'continue'\n",
    "# O comando 'continue' faz o programa voltar ao loop sem executar o resto do código\n",
    "# while True seria um loop infinito\n",
    "\n",
    "# Mostrar apenas números ímprares abaixo até 9\n",
    "n = 0\n",
    "while True:\n",
    "    if (n % 2) == 0:\n",
    "        n = n + 1\n",
    "        continue\n",
    "    print('O número é', n)\n",
    "    n = n + 1\n",
    "    if n > 9:\n",
    "        break"
   ]
  },
  {
   "cell_type": "code",
   "execution_count": 29,
   "id": "09176c6b-14a7-4df9-8f43-6b30d8e21cd3",
   "metadata": {},
   "outputs": [
    {
     "name": "stdin",
     "output_type": "stream",
     "text": [
      "Digite o peso (kg): 67\n",
      "Digite a altura (metros): 1.67\n"
     ]
    },
    {
     "name": "stdout",
     "output_type": "stream",
     "text": [
      "1 imc = 24.023808670084982\n"
     ]
    },
    {
     "name": "stdin",
     "output_type": "stream",
     "text": [
      "Digite o peso (kg): 78\n",
      "Digite a altura (metros): 1.67\n"
     ]
    },
    {
     "name": "stdout",
     "output_type": "stream",
     "text": [
      "2 imc = 27.968016063681024\n"
     ]
    },
    {
     "name": "stdin",
     "output_type": "stream",
     "text": [
      "Digite o peso (kg): 69\n",
      "Digite a altura (metros): 1.50\n"
     ]
    },
    {
     "name": "stdout",
     "output_type": "stream",
     "text": [
      "3 imc = 30.666666666666668\n"
     ]
    },
    {
     "name": "stdin",
     "output_type": "stream",
     "text": [
      "Digite o peso (kg): 45\n",
      "Digite a altura (metros): 1.45\n"
     ]
    },
    {
     "name": "stdout",
     "output_type": "stream",
     "text": [
      "4 imc = 21.40309155766944\n"
     ]
    },
    {
     "name": "stdin",
     "output_type": "stream",
     "text": [
      "Digite o peso (kg): 90\n",
      "Digite a altura (metros): 1.9\n"
     ]
    },
    {
     "name": "stdout",
     "output_type": "stream",
     "text": [
      "5 imc = 24.930747922437675\n",
      "O peso médio é: 69.8\n",
      "A altura média é: 1.638\n",
      "O maior imc foi: 30.666666666666668\n",
      "O menor imc foi: 21.40309155766944\n"
     ]
    }
   ],
   "source": [
    "# Exercício IMC\n",
    "\n",
    "maior_imc = 0\n",
    "menor_imc = 100\n",
    "alt_total = 0\n",
    "peso_total = 0\n",
    "i = 1\n",
    "while i <= 5:\n",
    "    peso = float(input('Digite o peso (kg):'))\n",
    "    alt = float(input('Digite a altura (metros):'))\n",
    "    imc = peso / (alt * alt)\n",
    "    if imc >= maior_imc:\n",
    "        maior_imc = imc\n",
    "    if imc <= menor_imc:\n",
    "        menor_imc = imc\n",
    "    print(i, 'imc =', imc)\n",
    "    peso_total = peso_total + peso\n",
    "    alt_total = alt_total + alt\n",
    "    i = i + 1\n",
    "\n",
    "peso_medio = peso_total / 5\n",
    "alt_media = alt_total / 5\n",
    "print('-------------')\n",
    "print('O peso médio é:', peso_medio)\n",
    "print('A altura média é:', alt_media)\n",
    "print('O maior imc foi:', maior_imc)\n",
    "print('O menor imc foi:', menor_imc)"
   ]
  }
 ],
 "metadata": {
  "kernelspec": {
   "display_name": "Python 3 (ipykernel)",
   "language": "python",
   "name": "python3"
  },
  "language_info": {
   "codemirror_mode": {
    "name": "ipython",
    "version": 3
   },
   "file_extension": ".py",
   "mimetype": "text/x-python",
   "name": "python",
   "nbconvert_exporter": "python",
   "pygments_lexer": "ipython3",
   "version": "3.13.5"
  }
 },
 "nbformat": 4,
 "nbformat_minor": 5
}
