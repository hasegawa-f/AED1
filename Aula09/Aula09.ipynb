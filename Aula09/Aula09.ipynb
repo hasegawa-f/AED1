{
 "cells": [
  {
   "cell_type": "code",
   "execution_count": 2,
   "id": "033a3106-389a-4470-961e-5e78ae2c63f0",
   "metadata": {},
   "outputs": [
    {
     "name": "stdin",
     "output_type": "stream",
     "text": [
      "Digite quantos números deseja inserir na lista 3\n",
      "Digite o próximo número da lista 10\n",
      "Digite o próximo número da lista 20\n",
      "Digite o próximo número da lista 30\n"
     ]
    },
    {
     "name": "stdout",
     "output_type": "stream",
     "text": [
      "Maior número na lista: 30\n",
      "Menor número na lista: 10\n",
      "Soma de todos os números da lista: 60\n",
      "Média dos números da lista: 20.0\n"
     ]
    }
   ],
   "source": [
    "# Listas\n",
    "\n",
    "# Lendo números para extrair o maior, o menor, a soma e a média\n",
    "\n",
    "num = int(input('Digite quantos números deseja inserir na lista'))\n",
    "num_list = []\n",
    "\n",
    "for i in range(num):\n",
    "    new_number = int(input('Digite o próximo número da lista'))\n",
    "    num_list.append(new_number)\n",
    "\n",
    "list_min = min(num_list)\n",
    "list_max = max(num_list)\n",
    "list_sum = sum(num_list)\n",
    "list_avg = list_sum / len(num_list)\n",
    "\n",
    "print(f'Maior número na lista: {list_max}')\n",
    "print(f'Menor número na lista: {list_min}')\n",
    "print(f'Soma de todos os números da lista: {list_sum}')\n",
    "print(f'Média dos números da lista: {list_avg}')"
   ]
  },
  {
   "cell_type": "markdown",
   "id": "51f7bf56-1707-4f6b-aa29-6296100987ec",
   "metadata": {},
   "source": [
    "## Exercícios"
   ]
  },
  {
   "cell_type": "markdown",
   "id": "ecd4b3ce-afbc-49c1-bab3-0314e1457545",
   "metadata": {},
   "source": [
    "1. Faça um algoritmo que carregue um vetor de 10 elementos numéricos inteiros. Após a finalização da entrada, o algoritmo deve escrever o mesmo vetor, na ordem inversa de entrada."
   ]
  },
  {
   "cell_type": "code",
   "execution_count": 4,
   "id": "be8a872f-87cc-4285-8649-42de5e524ef5",
   "metadata": {},
   "outputs": [
    {
     "name": "stdout",
     "output_type": "stream",
     "text": [
      "Lista reversa\n"
     ]
    },
    {
     "name": "stdin",
     "output_type": "stream",
     "text": [
      "Digite um número inteiro 1\n",
      "Digite um número inteiro 2\n",
      "Digite um número inteiro 3\n",
      "Digite um número inteiro 4\n",
      "Digite um número inteiro 5\n",
      "Digite um número inteiro 6\n",
      "Digite um número inteiro 7\n",
      "Digite um número inteiro 8\n",
      "Digite um número inteiro 9\n",
      "Digite um número inteiro 10\n"
     ]
    },
    {
     "name": "stdout",
     "output_type": "stream",
     "text": [
      "Lista reversa: [10, 9, 8, 7, 6, 5, 4, 3, 2, 1]\n"
     ]
    }
   ],
   "source": [
    "list_1 = []\n",
    "print('Lista reversa')\n",
    "\n",
    "for i in range(0, 10):\n",
    "    new_number = int(input('Digite um número inteiro:'))\n",
    "    list_1.append(new_number)\n",
    "\n",
    "list_1.reverse()\n",
    "print(f'Lista reversa: {list_1}')"
   ]
  },
  {
   "cell_type": "markdown",
   "id": "1833e481-2a9b-438b-afe3-ac660cf4b6cd",
   "metadata": {},
   "source": [
    "2. Faça um algorimto que carregue um vetor de 5 elementos numéricos inteiros. Após a finalização da entrada, o algoritmo deve escrever o maior valor e sua posição."
   ]
  },
  {
   "cell_type": "code",
   "execution_count": 6,
   "id": "f2a11c94-87cc-41c8-9821-bf5559377eb7",
   "metadata": {},
   "outputs": [
    {
     "name": "stdin",
     "output_type": "stream",
     "text": [
      "Digite um número inteiro: 45\n",
      "Digite um número inteiro: 98\n",
      "Digite um número inteiro: 243\n",
      "Digite um número inteiro: 98\n",
      "Digite um número inteiro: 65\n"
     ]
    },
    {
     "name": "stdout",
     "output_type": "stream",
     "text": [
      "O maior número é 243 e está na posição 2\n"
     ]
    }
   ],
   "source": [
    "list_2 = []\n",
    "\n",
    "for i in range(0, 5):\n",
    "    new_number = int(input('Digite um número inteiro:'))\n",
    "    list_2.append(new_number)\n",
    "\n",
    "number_max = max(list_2)\n",
    "index_of_max = list_2.index(number_max)\n",
    "\n",
    "print(f'O maior número é {number_max} e está na posição {index_of_max}')"
   ]
  },
  {
   "cell_type": "markdown",
   "id": "33ef27bf-c868-4914-a5ef-fb59f42bcaa1",
   "metadata": {},
   "source": [
    "3. Faça algoritmo que carregue dois vetores (listas) de cinco elementos numéricos cada um e mostre um vetor resultante na intercalação desses dois vetores"
   ]
  },
  {
   "cell_type": "code",
   "execution_count": 8,
   "id": "5e8e6072-b51b-4e98-8249-b001ed96d90e",
   "metadata": {},
   "outputs": [
    {
     "name": "stdout",
     "output_type": "stream",
     "text": [
      "Primeira lista!\n"
     ]
    },
    {
     "name": "stdin",
     "output_type": "stream",
     "text": [
      "Digite um número inteiro: 1\n",
      "Digite um número inteiro: 2\n",
      "Digite um número inteiro: 3\n",
      "Digite um número inteiro: 4\n",
      "Digite um número inteiro: 5\n"
     ]
    },
    {
     "name": "stdout",
     "output_type": "stream",
     "text": [
      "\n",
      "Segunda lista!\n"
     ]
    },
    {
     "name": "stdin",
     "output_type": "stream",
     "text": [
      "Digite um número inteiro: 6\n",
      "Digite um número inteiro: 7\n",
      "Digite um número inteiro: 8\n",
      "Digite um número inteiro: 9\n",
      "Digite um número inteiro: 0\n"
     ]
    },
    {
     "name": "stdout",
     "output_type": "stream",
     "text": [
      "Lista completa: [1, 2, 3, 4, 5, 6, 7, 8, 9, 0]\n"
     ]
    }
   ],
   "source": [
    "list_a = []\n",
    "list_b = []\n",
    "\n",
    "print('Primeira lista!')\n",
    "for i in range(0, 5):\n",
    "    new_number = int(input('Digite um número inteiro:'))\n",
    "    list_a.append(new_number)\n",
    "\n",
    "print('\\nSegunda lista!')\n",
    "for i in range(0, 5):\n",
    "    new_number = int(input('Digite um número inteiro:'))\n",
    "    list_b.append(new_number)\n",
    "\n",
    "complete_list = list_a + list_b\n",
    "\n",
    "print(f'Lista completa: {complete_list}')"
   ]
  },
  {
   "cell_type": "markdown",
   "id": "a3b276b2-6af3-4043-ac86-129c40702fc3",
   "metadata": {},
   "source": [
    "4. Faça um Algoritmo que simule 6000 jogadas de um dado de 6 faces. Para simular o resultado utilize a função randint Ao final, mostre a frequência de sorteio de cada uma das faces"
   ]
  },
  {
   "cell_type": "code",
   "execution_count": 11,
   "id": "97969719-64e4-41e8-bf49-50394acc5f3a",
   "metadata": {},
   "outputs": [
    {
     "name": "stdout",
     "output_type": "stream",
     "text": [
      "Dado de 6 lados jogado 6000 vezes!\n",
      "\n",
      "Quantidade de jogadas:\n",
      "1: 996\n",
      "2: 980\n",
      "3: 1009\n",
      "4: 1038\n",
      "5: 1005\n",
      "6: 972\n"
     ]
    }
   ],
   "source": [
    "from random import randint\n",
    "die_plays = []\n",
    "\n",
    "print('Dado de 6 lados jogado 6000 vezes!\\n')\n",
    "\n",
    "for i in range (0, 6000):\n",
    "    die_plays.append(randint(1, 6))\n",
    "\n",
    "play_1 = die_plays.count(1)\n",
    "play_2 = die_plays.count(2)\n",
    "play_3 = die_plays.count(3)\n",
    "play_4 = die_plays.count(4)\n",
    "play_5 = die_plays.count(5)\n",
    "play_6 = die_plays.count(6)\n",
    "\n",
    "print(f'''Quantidade de jogadas:\n",
    "1: {play_1}\n",
    "2: {play_2}\n",
    "3: {play_3}\n",
    "4: {play_4}\n",
    "5: {play_5}\n",
    "6: {play_6}''')"
   ]
  },
  {
   "cell_type": "markdown",
   "id": "bfbdc5d9-c5ea-43b0-b4e9-6198844a060f",
   "metadata": {},
   "source": [
    "5. Faça um algoritmo que simule a jogada de dois dados de 6 faces. O programa deve usar randint para rolar o primeiro dado e deve usar randint novamente para rolar o segundo dado. A soma das duas faces deve ser calculada. Assim: a soma variará de 2 a 12. O programa deve rolar 30.000 vezes e mostrar a frequência com que a soma (de 2 a 12) aparecem. Verifique se o valor 7 corresponde a 1/6 das jogadas!"
   ]
  },
  {
   "cell_type": "code",
   "execution_count": 13,
   "id": "8ea0e42b-1953-4a4d-bfdf-930f304e366f",
   "metadata": {},
   "outputs": [
    {
     "name": "stdout",
     "output_type": "stream",
     "text": [
      "Dois dados de 6 faces jogados 30.000 vezes!\n",
      "Quantidade de jogadas:\n",
      "2: 825\n",
      "3: 1665\n",
      "4: 2534\n",
      "5: 3367\n",
      "6: 4170\n",
      "7: 5065\n",
      "8: 4055\n",
      "9: 3268\n",
      "10: 2495\n",
      "11: 1696\n",
      "12: 860\n",
      "\n",
      "O número 7 caiu 1/6 das vezes? Não :c\n"
     ]
    }
   ],
   "source": [
    "double_dice_plays = []\n",
    "\n",
    "print('Dois dados de 6 faces jogados 30.000 vezes!')\n",
    "\n",
    "for i in range(0, 30000):\n",
    "    first_die = randint(1, 6)\n",
    "    second_die = randint(1, 6)\n",
    "    full_play = first_die + second_die\n",
    "    double_dice_plays.append(full_play)\n",
    "\n",
    "double_play_2 = double_dice_plays.count(2)\n",
    "double_play_3 = double_dice_plays.count(3)\n",
    "double_play_4 = double_dice_plays.count(4)\n",
    "double_play_5 = double_dice_plays.count(5)\n",
    "double_play_6 = double_dice_plays.count(6)\n",
    "double_play_7 = double_dice_plays.count(7)\n",
    "double_play_8 = double_dice_plays.count(8)\n",
    "double_play_9 = double_dice_plays.count(9)\n",
    "double_play_10 = double_dice_plays.count(10)\n",
    "double_play_11 = double_dice_plays.count(11)\n",
    "double_play_12 = double_dice_plays.count(12)\n",
    "\n",
    "is_play_7_sisxth = ''\n",
    "\n",
    "if double_play_7 == 5000:\n",
    "    is_play_7_sisxth = 'Sim :D'\n",
    "else:\n",
    "    is_play_7_sisxth = 'Não :c'\n",
    "\n",
    "print(f'''Quantidade de jogadas:\n",
    "2: {double_play_2}\n",
    "3: {double_play_3}\n",
    "4: {double_play_4}\n",
    "5: {double_play_5}\n",
    "6: {double_play_6}\n",
    "7: {double_play_7}\n",
    "8: {double_play_8}\n",
    "9: {double_play_9}\n",
    "10: {double_play_10}\n",
    "11: {double_play_11}\n",
    "12: {double_play_12}\n",
    "\n",
    "O número 7 caiu 1/6 das vezes? {is_play_7_sisxth}''')"
   ]
  },
  {
   "cell_type": "markdown",
   "id": "4efd87f2-f1bb-4acc-bbe1-2ee95e29b6e0",
   "metadata": {},
   "source": [
    "6. Faça um algoritmo que leia uma matriz 2x2 e imprima os seus elementos na ordem:\n",
    "1,1 =\n",
    "\n",
    "1,2 =\n",
    "\n",
    "2,1 =\n",
    "\n",
    "2,2 =\n",
    "\n",
    "Obs: linha, coluna"
   ]
  },
  {
   "cell_type": "code",
   "execution_count": 18,
   "id": "45493f90-2042-4fc4-880e-3fbf7a47b071",
   "metadata": {},
   "outputs": [
    {
     "name": "stdout",
     "output_type": "stream",
     "text": [
      "Matriz 2x2\n",
      "\n",
      "Entrada da nova linha\n"
     ]
    },
    {
     "name": "stdin",
     "output_type": "stream",
     "text": [
      "Digite um número inteiro: 1\n",
      "Digite um número inteiro: 2\n"
     ]
    },
    {
     "name": "stdout",
     "output_type": "stream",
     "text": [
      "\n",
      "Entrada da nova linha\n"
     ]
    },
    {
     "name": "stdin",
     "output_type": "stream",
     "text": [
      "Digite um número inteiro: 3\n",
      "Digite um número inteiro: 4\n"
     ]
    },
    {
     "name": "stdout",
     "output_type": "stream",
     "text": [
      "\n",
      "Elemento 1,1: 1\n",
      "Elemento 1,2: 2\n",
      "Elemento 2,1: 3\n",
      "Elemento 2,2: 4\n"
     ]
    }
   ],
   "source": [
    "matrix_2x2 = []\n",
    "\n",
    "print('Matriz 2x2')\n",
    "\n",
    "for i in range(0, 2):\n",
    "    new_line = []    \n",
    "    print('\\nEntrada da nova linha')\n",
    "    for i in range(0, 2):\n",
    "        new_number = int(input('Digite um número inteiro:'))\n",
    "        new_line.append(new_number)\n",
    "    matrix_2x2.append(new_line)\n",
    "\n",
    "print('')\n",
    "for i in range(0, 2):\n",
    "    for j in range(0, 2):\n",
    "        print(f'Elemento {i+1},{j+1}: {matrix_2x2[i][j]}')\n",
    "\n"
   ]
  },
  {
   "cell_type": "markdown",
   "id": "43669034-889d-40d7-b913-eb02f1647073",
   "metadata": {},
   "source": [
    "7. Faça um algoritmo que leia os dados de uma matriz de 4 linhas e 4 colunas, composta de elementos reais, e calcule a soma dos elementos da diagonal principal da matriz."
   ]
  },
  {
   "cell_type": "code",
   "execution_count": 19,
   "id": "d61fa9c8-bb08-44ef-a7ff-82c94bb4b794",
   "metadata": {},
   "outputs": [
    {
     "name": "stdout",
     "output_type": "stream",
     "text": [
      "Soma da diagonal de uma matrix 4x4\n",
      "\n",
      "Entrada da nova linha\n"
     ]
    },
    {
     "name": "stdin",
     "output_type": "stream",
     "text": [
      "Digite um número real: 1\n",
      "Digite um número real: 2\n",
      "Digite um número real: 3\n",
      "Digite um número real: 4\n"
     ]
    },
    {
     "name": "stdout",
     "output_type": "stream",
     "text": [
      "\n",
      "Entrada da nova linha\n"
     ]
    },
    {
     "name": "stdin",
     "output_type": "stream",
     "text": [
      "Digite um número real: 5\n",
      "Digite um número real: 6\n",
      "Digite um número real: 7\n",
      "Digite um número real: 8\n"
     ]
    },
    {
     "name": "stdout",
     "output_type": "stream",
     "text": [
      "\n",
      "Entrada da nova linha\n"
     ]
    },
    {
     "name": "stdin",
     "output_type": "stream",
     "text": [
      "Digite um número real: 9\n",
      "Digite um número real: 10\n",
      "Digite um número real: 11\n",
      "Digite um número real: 12\n"
     ]
    },
    {
     "name": "stdout",
     "output_type": "stream",
     "text": [
      "\n",
      "Entrada da nova linha\n"
     ]
    },
    {
     "name": "stdin",
     "output_type": "stream",
     "text": [
      "Digite um número real: 13\n",
      "Digite um número real: 14\n",
      "Digite um número real: 15\n",
      "Digite um número real: 16\n"
     ]
    },
    {
     "name": "stdout",
     "output_type": "stream",
     "text": [
      "\n",
      "Soma da diagonal principal: 34.0\n"
     ]
    }
   ],
   "source": [
    "matrix_4x4 = []\n",
    "\n",
    "print('Soma da diagonal de uma matrix 4x4')\n",
    "\n",
    "for i in range(0, 4):\n",
    "    new_line = []    \n",
    "    print('\\nEntrada da nova linha')\n",
    "    for i in range(0, 4):\n",
    "        new_number = float(input('Digite um número real:'))\n",
    "        new_line.append(new_number)\n",
    "    matrix_4x4.append(new_line)\n",
    "\n",
    "diagonal_sum = 0\n",
    "\n",
    "for i in range(0, 4):\n",
    "    diagonal_sum += matrix_4x4[i][i]\n",
    "\n",
    "print(f'\\nSoma da diagonal principal: {diagonal_sum}')"
   ]
  },
  {
   "cell_type": "markdown",
   "id": "b4a26965-7527-4d87-8409-5e8ba73d46d7",
   "metadata": {},
   "source": [
    "8. Faça um algoritmo que receba uma matriz de 5x5 com números reais. Ao final o algoritmo deve calcular e mostrar a média dos elementos que estão nas linhas pares da matriz."
   ]
  },
  {
   "cell_type": "code",
   "execution_count": 24,
   "id": "91885d07-7409-4529-8046-5e5c71ddcf3e",
   "metadata": {},
   "outputs": [
    {
     "name": "stdout",
     "output_type": "stream",
     "text": [
      "Média dos elementos das linhas pares de uma matrix 5x5\n",
      "\n",
      "Entrada da nova linha\n"
     ]
    },
    {
     "name": "stdin",
     "output_type": "stream",
     "text": [
      "Digite um número real: 1\n",
      "Digite um número real: 1\n",
      "Digite um número real: 1\n",
      "Digite um número real: 1\n",
      "Digite um número real: 1\n"
     ]
    },
    {
     "name": "stdout",
     "output_type": "stream",
     "text": [
      "\n",
      "Entrada da nova linha\n"
     ]
    },
    {
     "name": "stdin",
     "output_type": "stream",
     "text": [
      "Digite um número real: 1\n",
      "Digite um número real: 2\n",
      "Digite um número real: 3\n",
      "Digite um número real: 4\n",
      "Digite um número real: 5\n"
     ]
    },
    {
     "name": "stdout",
     "output_type": "stream",
     "text": [
      "\n",
      "Entrada da nova linha\n"
     ]
    },
    {
     "name": "stdin",
     "output_type": "stream",
     "text": [
      "Digite um número real: 1\n",
      "Digite um número real: 1\n",
      "Digite um número real: 1\n",
      "Digite um número real: 1\n",
      "Digite um número real: 1\n"
     ]
    },
    {
     "name": "stdout",
     "output_type": "stream",
     "text": [
      "\n",
      "Entrada da nova linha\n"
     ]
    },
    {
     "name": "stdin",
     "output_type": "stream",
     "text": [
      "Digite um número real: 6\n",
      "Digite um número real: 7\n",
      "Digite um número real: 8\n",
      "Digite um número real: 9\n",
      "Digite um número real: 10\n"
     ]
    },
    {
     "name": "stdout",
     "output_type": "stream",
     "text": [
      "\n",
      "Entrada da nova linha\n"
     ]
    },
    {
     "name": "stdin",
     "output_type": "stream",
     "text": [
      "Digite um número real: 1\n",
      "Digite um número real: 1\n",
      "Digite um número real: 1\n",
      "Digite um número real: 1\n",
      "Digite um número real: 1\n"
     ]
    },
    {
     "name": "stdout",
     "output_type": "stream",
     "text": [
      "\n",
      "Média das linhas:\n",
      "Linha 2: 3.0\n",
      "Linha 4: 8.0\n"
     ]
    }
   ],
   "source": [
    "matrix_5x5 = []\n",
    "\n",
    "print('Média dos elementos das linhas pares de uma matrix 5x5')\n",
    "\n",
    "for i in range(0, 5):\n",
    "    new_line = []    \n",
    "    print('\\nEntrada da nova linha')\n",
    "    for i in range(0, 5):\n",
    "        new_number = float(input('Digite um número real:'))\n",
    "        new_line.append(new_number)\n",
    "    matrix_5x5.append(new_line)\n",
    "\n",
    "lines_avg = []\n",
    "\n",
    "for i in range(1, 5, 2):\n",
    "    line_sum = 0\n",
    "    for j in range(0, 5):\n",
    "        line_sum += matrix_5x5[i][j]\n",
    "    lines_avg.append(line_sum / 5)\n",
    "\n",
    "print('\\nMédia das linhas:')\n",
    "line = 0\n",
    "\n",
    "for element in lines_avg:\n",
    "    line += 2\n",
    "    print(f'Linha {line}: {element}')"
   ]
  }
 ],
 "metadata": {
  "kernelspec": {
   "display_name": "Python 3 (ipykernel)",
   "language": "python",
   "name": "python3"
  },
  "language_info": {
   "codemirror_mode": {
    "name": "ipython",
    "version": 3
   },
   "file_extension": ".py",
   "mimetype": "text/x-python",
   "name": "python",
   "nbconvert_exporter": "python",
   "pygments_lexer": "ipython3",
   "version": "3.12.3"
  }
 },
 "nbformat": 4,
 "nbformat_minor": 5
}
