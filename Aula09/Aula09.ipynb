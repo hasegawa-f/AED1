{
 "cells": [
  {
   "cell_type": "code",
   "execution_count": 2,
   "id": "033a3106-389a-4470-961e-5e78ae2c63f0",
   "metadata": {},
   "outputs": [
    {
     "name": "stdin",
     "output_type": "stream",
     "text": [
      "Digite quantos números deseja inserir na lista 3\n",
      "Digite o próximo número da lista 10\n",
      "Digite o próximo número da lista 20\n",
      "Digite o próximo número da lista 30\n"
     ]
    },
    {
     "name": "stdout",
     "output_type": "stream",
     "text": [
      "Maior número na lista: 30\n",
      "Menor número na lista: 10\n",
      "Soma de todos os números da lista: 60\n",
      "Média dos números da lista: 20.0\n"
     ]
    }
   ],
   "source": [
    "# Listas\n",
    "\n",
    "# Lendo números para extrair o maior, o menor, a soma e a média\n",
    "\n",
    "num = int(input('Digite quantos números deseja inserir na lista'))\n",
    "num_list = []\n",
    "\n",
    "for i in range(num):\n",
    "    new_number = int(input('Digite o próximo número da lista'))\n",
    "    num_list.append(new_number)\n",
    "\n",
    "list_min = min(num_list)\n",
    "list_max = max(num_list)\n",
    "list_sum = sum(num_list)\n",
    "list_avg = list_sum / len(num_list)\n",
    "\n",
    "print(f'Maior número na lista: {list_max}')\n",
    "print(f'Menor número na lista: {list_min}')\n",
    "print(f'Soma de todos os números da lista: {list_sum}')\n",
    "print(f'Média dos números da lista: {list_avg}')"
   ]
  }
 ],
 "metadata": {
  "kernelspec": {
   "display_name": "Python 3 (ipykernel)",
   "language": "python",
   "name": "python3"
  },
  "language_info": {
   "codemirror_mode": {
    "name": "ipython",
    "version": 3
   },
   "file_extension": ".py",
   "mimetype": "text/x-python",
   "name": "python",
   "nbconvert_exporter": "python",
   "pygments_lexer": "ipython3",
   "version": "3.13.5"
  }
 },
 "nbformat": 4,
 "nbformat_minor": 5
}
