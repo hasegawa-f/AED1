{
 "cells": [
  {
   "cell_type": "markdown",
   "id": "11ffb185-9d00-422d-86ba-ad1388202dfa",
   "metadata": {},
   "source": [
    "## Strings"
   ]
  },
  {
   "cell_type": "markdown",
   "id": "867f4e2a-2e33-4aea-8de2-b1b161b3e4d2",
   "metadata": {},
   "source": [
    "### Exercícios"
   ]
  },
  {
   "cell_type": "markdown",
   "id": "165a9f08-b425-4564-aa10-cace6f73d60a",
   "metadata": {},
   "source": [
    "1. Elabore um algoritmo para ler/receber, separadamente, o primeiro nome, o nome do meio e o sobrenome de uma pessoa. Em seguida, mostre o nome completo, correspondente."
   ]
  },
  {
   "cell_type": "code",
   "execution_count": 2,
   "id": "62bfc1c1-69b0-463a-acf3-0facb0d18a84",
   "metadata": {},
   "outputs": [
    {
     "name": "stdout",
     "output_type": "stream",
     "text": [
      "Nome Completo\n"
     ]
    },
    {
     "name": "stdin",
     "output_type": "stream",
     "text": [
      "Digite seu primeiro nome Frederico\n",
      "Digite o(s) seu(s) nome(s) do meio. Se não houver, aperte Enter Hasegawa Copeli\n",
      "Digite seu sobrenome Venancio\n"
     ]
    },
    {
     "name": "stdout",
     "output_type": "stream",
     "text": [
      "Nome completo: Frederico Hasegawa Copeli Venancio\n"
     ]
    }
   ],
   "source": [
    "first_name = ''\n",
    "middle_name = ''\n",
    "last_name = ''\n",
    "full_name = ''\n",
    "\n",
    "print('Nome Completo')\n",
    "\n",
    "first_name = input('Digite seu primeiro nome')\n",
    "middle_name = input('Digite o(s) seu(s) nome(s) do meio. Se não houver, aperte Enter')\n",
    "last_name = input('Digite seu sobrenome')\n",
    "\n",
    "if middle_name == '':\n",
    "    full_name = first_name + last_name\n",
    "else:\n",
    "    full_name = first_name + ' ' + middle_name + ' ' + last_name\n",
    "\n",
    "print(f'Nome completo: {full_name}')"
   ]
  },
  {
   "cell_type": "markdown",
   "id": "f67ed587-7d9d-49df-9b3b-8b88f9f750f7",
   "metadata": {},
   "source": [
    "2. Faça um algoritmo que solicite uma data no formato de uma string – dd/mm/aaaa. Mostre essa data no formato AAAAMMDD"
   ]
  },
  {
   "cell_type": "code",
   "execution_count": 3,
   "id": "7144893e-2474-4a56-87bf-1b2ae6449b97",
   "metadata": {},
   "outputs": [
    {
     "name": "stdout",
     "output_type": "stream",
     "text": [
      "Data reversa\n"
     ]
    },
    {
     "name": "stdin",
     "output_type": "stream",
     "text": [
      "Digite uma data no formato dd/mm/aaaa:  07/05/1993\n"
     ]
    },
    {
     "name": "stdout",
     "output_type": "stream",
     "text": [
      "Data reversa: 19930507\n"
     ]
    }
   ],
   "source": [
    "print('Data reversa')\n",
    "\n",
    "date = input('Digite uma data no formato dd/mm/aaaa: ')\n",
    "\n",
    "date_split = date.split('/')\n",
    "\n",
    "reverse_date = date_split[-1] + date_split[-2] + date_split[-3]\n",
    "\n",
    "print(f'Data reversa: {reverse_date}')"
   ]
  },
  {
   "cell_type": "markdown",
   "id": "e915bb1e-c558-4e98-b67f-6294310737eb",
   "metadata": {},
   "source": [
    "3. Elabore um algoritmo para determinar quantas vogais existem dentro de uma determinada frase (que deve ser recebida do usuário)."
   ]
  },
  {
   "cell_type": "code",
   "execution_count": 5,
   "id": "edd7f1a7-faa0-438b-8a34-a8ecebd62cc0",
   "metadata": {},
   "outputs": [
    {
     "name": "stdout",
     "output_type": "stream",
     "text": [
      "Contando vogais\n"
     ]
    },
    {
     "name": "stdin",
     "output_type": "stream",
     "text": [
      "Digite uma frase:  Loucura loucura locurua\n"
     ]
    },
    {
     "name": "stdout",
     "output_type": "stream",
     "text": [
      "A frase \"Loucura loucura locurua\" contém 12 vogais\n"
     ]
    }
   ],
   "source": [
    "print('Contando vogais')\n",
    "\n",
    "phrase = input('Digite uma frase: ')\n",
    "\n",
    "vowel_count = phrase.count('a')\n",
    "vowel_count += phrase.count('A')\n",
    "vowel_count += phrase.count('ã')\n",
    "vowel_count += phrase.count('Ã')\n",
    "vowel_count += phrase.count('á')\n",
    "vowel_count += phrase.count('Á')\n",
    "vowel_count += phrase.count('à')\n",
    "vowel_count += phrase.count('À')\n",
    "vowel_count += phrase.count('â')\n",
    "vowel_count += phrase.count('Â')\n",
    "\n",
    "vowel_count += phrase.count('e')\n",
    "vowel_count += phrase.count('E')\n",
    "vowel_count += phrase.count('é')\n",
    "vowel_count += phrase.count('É')\n",
    "vowel_count += phrase.count('ê')\n",
    "vowel_count += phrase.count('Ê')\n",
    "\n",
    "\n",
    "vowel_count += phrase.count('i')\n",
    "vowel_count += phrase.count('I')\n",
    "vowel_count += phrase.count('í')\n",
    "vowel_count += phrase.count('Í')\n",
    "\n",
    "vowel_count += phrase.count('o')\n",
    "vowel_count += phrase.count('O')\n",
    "vowel_count += phrase.count('õ')\n",
    "vowel_count += phrase.count('Õ')\n",
    "vowel_count += phrase.count('ó')\n",
    "vowel_count += phrase.count('Ó')\n",
    "vowel_count += phrase.count('ô')\n",
    "vowel_count += phrase.count('Ô')\n",
    "\n",
    "vowel_count += phrase.count('u')\n",
    "vowel_count += phrase.count('U')\n",
    "\n",
    "print(f'A frase \"{phrase}\" contém {vowel_count} vogais')"
   ]
  },
  {
   "cell_type": "markdown",
   "id": "c1f29dc8-4850-4323-b415-be191983e34d",
   "metadata": {},
   "source": [
    "4. Faça um algoritmo para determinar quantas palavras existem em uma determinada frase Obs: tanto a palavra, quanto a frase, devem ser informadas pelo usuário."
   ]
  },
  {
   "cell_type": "code",
   "execution_count": null,
   "id": "cce53b77-ccb5-4a5f-8075-fc9970b9e31e",
   "metadata": {},
   "outputs": [],
   "source": []
  },
  {
   "cell_type": "markdown",
   "id": "5e5bca4a-fce1-4f49-ab46-938c1ba22fbd",
   "metadata": {},
   "source": [
    "5. Faça um algoritmo para determinar se um determinada palavra, digitada pelo usuário, é um palíndroma. Palíndromo: lido da direita para a esquerda, ou vice versa, representam a mesma coisa. Ex: AMA"
   ]
  },
  {
   "cell_type": "code",
   "execution_count": null,
   "id": "50c6d802-bf38-45e2-8c93-ee671672620e",
   "metadata": {},
   "outputs": [],
   "source": []
  },
  {
   "cell_type": "markdown",
   "id": "149203ea-28a4-437e-8de6-5ee6f477fdbb",
   "metadata": {},
   "source": [
    "6. Faça um algoritmo para ler nove caracteres numéricos em uma string. Mostre o conteúdo dessa string colando pontos e virgula, respectivamente nas posições inteiras e decimais.\n",
    "Exemplo:\n",
    "\n",
    "Digitado> 987654321\n",
    "\n",
    "Mostrado> 9.876.543,21"
   ]
  },
  {
   "cell_type": "code",
   "execution_count": null,
   "id": "f9d4423e-a9b7-4699-b01e-0cbf3611db99",
   "metadata": {},
   "outputs": [],
   "source": []
  }
 ],
 "metadata": {
  "kernelspec": {
   "display_name": "Python 3 (ipykernel)",
   "language": "python",
   "name": "python3"
  },
  "language_info": {
   "codemirror_mode": {
    "name": "ipython",
    "version": 3
   },
   "file_extension": ".py",
   "mimetype": "text/x-python",
   "name": "python",
   "nbconvert_exporter": "python",
   "pygments_lexer": "ipython3",
   "version": "3.12.3"
  }
 },
 "nbformat": 4,
 "nbformat_minor": 5
}
