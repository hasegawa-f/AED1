{
 "cells": [
  {
   "cell_type": "code",
   "execution_count": 2,
   "id": "fd9d4d45-4d2e-4a95-ac78-fbbfc27298c3",
   "metadata": {},
   "outputs": [
    {
     "name": "stdout",
     "output_type": "stream",
     "text": [
      "Adivinhe o número!\n",
      "Escolha o nível: 1 - fácil (15 tentativas) | 2 - médio (10 tentativas) | 3 - difícil (5 tentativas)\n"
     ]
    },
    {
     "name": "stdin",
     "output_type": "stream",
     "text": [
      "Escolha o nível (Digite -1 para sair):  2\n"
     ]
    },
    {
     "name": "stdout",
     "output_type": "stream",
     "text": [
      "Você tem 10 tentativas!\n",
      "\n",
      "Essa é a tentativa de número 1\n"
     ]
    },
    {
     "name": "stdin",
     "output_type": "stream",
     "text": [
      "Digite um número de 1 a 100! 50\n"
     ]
    },
    {
     "name": "stdout",
     "output_type": "stream",
     "text": [
      "O número está ALTO! Tente de novo!\n",
      "Seu palpite está FRIO! \n",
      "\n",
      "Essa é a tentativa de número 2\n"
     ]
    },
    {
     "name": "stdin",
     "output_type": "stream",
     "text": [
      "Digite um número de 1 a 100! 25\n"
     ]
    },
    {
     "name": "stdout",
     "output_type": "stream",
     "text": [
      "O número está ALTO! Tente de novo!\n",
      "Seu palpite está QUENTE! \n",
      "\n",
      "Essa é a tentativa de número 3\n"
     ]
    },
    {
     "name": "stdin",
     "output_type": "stream",
     "text": [
      "Digite um número de 1 a 100! 15\n"
     ]
    },
    {
     "name": "stdout",
     "output_type": "stream",
     "text": [
      "O número está BAIXO! Tente de novo!\n",
      "Seu palpite está MUITO QUENTE! \n",
      "\n",
      "Essa é a tentativa de número 4\n"
     ]
    },
    {
     "name": "stdin",
     "output_type": "stream",
     "text": [
      "Digite um número de 1 a 100! 17\n"
     ]
    },
    {
     "name": "stdout",
     "output_type": "stream",
     "text": [
      "Parabéns! Você acertou o número! O número escolhido foi 17\n"
     ]
    },
    {
     "name": "stdin",
     "output_type": "stream",
     "text": [
      "Deseja jogar de novo? S para sim | N para não n\n"
     ]
    },
    {
     "name": "stdout",
     "output_type": "stream",
     "text": [
      "Obrigado por jogar :)\n"
     ]
    }
   ],
   "source": [
    "# Adivinhação de um número de 1 a 100\n",
    "\n",
    "# abs() => retorna o valor absoluto (positivo) de um número\n",
    "\n",
    "from random import randint\n",
    "\n",
    "print('Adivinhe o número!')\n",
    "player_guess = 0\n",
    "\n",
    "while True:\n",
    "    random_number = randint(1, 100)\n",
    "    print('Escolha o nível: 1 - fácil (15 tentativas) | 2 - médio (10 tentativas) | 3 - difícil (5 tentativas)')\n",
    "    level = int(input('Escolha o nível (Digite -1 para sair): '))\n",
    "    if level == 1:\n",
    "        total_guesses = 15\n",
    "    elif level == 2:\n",
    "        total_guesses = 10\n",
    "    elif level == 3:\n",
    "        total_guesses = 5\n",
    "    elif level == -1:\n",
    "        print('Obrigado por jogar :)')\n",
    "        break\n",
    "    else:\n",
    "        print('Nível inválido! Escolha novamente.\\n')\n",
    "        continue\n",
    "    print('Você tem', total_guesses, 'tentativas!\\n')\n",
    "    num_guesses = 1\n",
    "    \n",
    "    while True:\n",
    "        if num_guesses > total_guesses:\n",
    "            print('Acabou o número de tentativas :c\\n')\n",
    "            break\n",
    "        print('Essa é a tentativa de número', num_guesses)        \n",
    "        player_guess = int(input('Digite um número de 1 a 100!'))\n",
    "        \n",
    "        distance = abs(player_guess - random_number)\n",
    "        if distance > 10:\n",
    "            hot_or_cold = 'FRIO!'\n",
    "        elif distance <= 5:\n",
    "            hot_or_cold = 'MUITO QUENTE!'\n",
    "        else:\n",
    "            hot_or_cold = 'QUENTE!'\n",
    "            \n",
    "        if player_guess > 100 or player_guess < 1:\n",
    "            print('O número está fora do intervalo de 1 a 100. Tente de novo!\\n')\n",
    "        elif player_guess == random_number:\n",
    "            print('Parabéns! Você acertou o número! O número escolhido foi', random_number)\n",
    "            break\n",
    "        elif player_guess > random_number:\n",
    "            print('O número está ALTO! Tente de novo!')\n",
    "            print('Seu palpite está', hot_or_cold, '\\n')\n",
    "        elif player_guess < random_number:\n",
    "            print('O número está BAIXO! Tente de novo!')\n",
    "            print('Seu palpite está', hot_or_cold, '\\n')\n",
    "        else:\n",
    "            print('Entrada inválida! Tente de novo!\\n')\n",
    "            \n",
    "        num_guesses = num_guesses + 1\n",
    "    wish_to_continue = input('Deseja jogar de novo? S para sim | N para não')\n",
    "    if wish_to_continue == 'N' or wish_to_continue == 'n':\n",
    "        print('Obrigado por jogar :)')\n",
    "        break\n",
    "        \n"
   ]
  },
  {
   "cell_type": "code",
   "execution_count": null,
   "id": "c9fbd799-1ade-4f24-af91-4a2b5a99e536",
   "metadata": {},
   "outputs": [],
   "source": []
  }
 ],
 "metadata": {
  "kernelspec": {
   "display_name": "Python 3 (ipykernel)",
   "language": "python",
   "name": "python3"
  },
  "language_info": {
   "codemirror_mode": {
    "name": "ipython",
    "version": 3
   },
   "file_extension": ".py",
   "mimetype": "text/x-python",
   "name": "python",
   "nbconvert_exporter": "python",
   "pygments_lexer": "ipython3",
   "version": "3.12.3"
  }
 },
 "nbformat": 4,
 "nbformat_minor": 5
}
