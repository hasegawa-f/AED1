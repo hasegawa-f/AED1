{
 "cells": [
  {
   "cell_type": "markdown",
   "id": "c33bda7c-dc5f-481b-bcaa-17c1abb44523",
   "metadata": {},
   "source": [
    "## Tuplas"
   ]
  },
  {
   "cell_type": "markdown",
   "id": "529a1946-e093-4002-8e66-283c836da10f",
   "metadata": {},
   "source": [
    "### Exercícios"
   ]
  },
  {
   "cell_type": "markdown",
   "id": "921f7593-ea4d-4c1f-8761-547920f12d70",
   "metadata": {},
   "source": [
    "Fazer um programa em python que:\n",
    "1. Receba uma quantidade ilimitada (não se sabe quantas) de idade de\n",
    "pessoas.\n",
    "2. Guarde essas idades em uma lista.\n",
    "3. Para encerrar a digitação das idades, deve-se digitar: -1\n",
    "4. Em seguida, deve-se gerar uma tupla de idades, a partir da lista.\n",
    "5. Deve-se mostrar as seguintes informações, consultando a tupla:\n",
    "5.1. Qtd de idades digitadas\n",
    "5.2. Média das idades"
   ]
  },
  {
   "cell_type": "code",
   "execution_count": 2,
   "id": "928f8ea2-dec0-42b4-aed2-f761a2c96d6c",
   "metadata": {
    "scrolled": true
   },
   "outputs": [
    {
     "name": "stdout",
     "output_type": "stream",
     "text": [
      "Idades\n",
      "\n"
     ]
    },
    {
     "name": "stdin",
     "output_type": "stream",
     "text": [
      "Digita uma idade. (Para parar, digite -1): 21\n",
      "Digita uma idade. (Para parar, digite -1): 33\n",
      "Digita uma idade. (Para parar, digite -1): 54\n",
      "Digita uma idade. (Para parar, digite -1): 67\n",
      "Digita uma idade. (Para parar, digite -1): 54\n",
      "Digita uma idade. (Para parar, digite -1): 32\n",
      "Digita uma idade. (Para parar, digite -1): 19\n",
      "Digita uma idade. (Para parar, digite -1): -1\n"
     ]
    },
    {
     "name": "stdout",
     "output_type": "stream",
     "text": [
      "Quantiade de idades: 7\n",
      "Média das idades: 40.0\n"
     ]
    }
   ],
   "source": [
    "print('Idades\\n')\n",
    "\n",
    "ages_list = []\n",
    "\n",
    "while True:\n",
    "    new_age = int(input('Digita uma idade. (Para parar, digite -1):'))\n",
    "    if new_age == -1:\n",
    "        break\n",
    "    ages_list.append(new_age)\n",
    "\n",
    "ages_tuple = tuple(ages_list)\n",
    "\n",
    "print(f'Quantidade de idades: {len(ages_tuple)}')\n",
    "\n",
    "ages_avg = sum(ages_tuple) / len(ages_tuple)\n",
    "\n",
    "print(f'Média das idades: {ages_avg}')"
   ]
  },
  {
   "cell_type": "markdown",
   "id": "19d94fc0-b790-4b5c-8f0e-241c25c7d88f",
   "metadata": {},
   "source": [
    "## Dicionários"
   ]
  },
  {
   "cell_type": "markdown",
   "id": "adc2f3d4-debd-417e-9eef-6d2c7cd6b76a",
   "metadata": {},
   "source": [
    "### Exercícios"
   ]
  },
  {
   "cell_type": "markdown",
   "id": "d6b0d99a-0e30-4dc4-8d4a-c2e6708223f0",
   "metadata": {},
   "source": [
    "1.  Faça um algoritmo que carregue um dicionário de 5 elementos onde a chave é o sobrenome da pessoa e o valor a sua idade. Após a finalização da entrada, o algoritmo deve escrever o sobrenome da pessoa com maior idade."
   ]
  },
  {
   "cell_type": "code",
   "execution_count": 6,
   "id": "b9f0f275-dab6-4046-a503-1c81e11ef973",
   "metadata": {},
   "outputs": [
    {
     "name": "stdout",
     "output_type": "stream",
     "text": [
      "Sobrenomes e idades\n",
      "\n"
     ]
    },
    {
     "name": "stdin",
     "output_type": "stream",
     "text": [
      "Digite o sobrenome: A\n",
      "Digite a idade: 18\n",
      "Digite o sobrenome: B\n",
      "Digite a idade: 43\n",
      "Digite o sobrenome: C\n",
      "Digite a idade: 55\n",
      "Digite o sobrenome: D\n",
      "Digite a idade: 76\n",
      "Digite o sobrenome: E\n",
      "Digite a idade: 32\n"
     ]
    },
    {
     "name": "stdout",
     "output_type": "stream",
     "text": [
      "{'A': 18, 'B': 43, 'C': 55, 'D': 76, 'E': 32}\n",
      "[18, 43, 55, 76, 32]\n",
      "['A', 'B', 'C', 'D', 'E']\n",
      "O sobrenome daquele que tem a maior idade é: D\n"
     ]
    }
   ],
   "source": [
    "print('Sobrenomes e idades\\n')\n",
    "\n",
    "people = {}\n",
    "\n",
    "for i in range (0, 5):\n",
    "    name = input('Digite o sobrenome:')\n",
    "    age = int(input('Digite a idade:'))\n",
    "    people[name] = age\n",
    "\n",
    "print(people)\n",
    "\n",
    "ages_list = list(people.values())\n",
    "names_list = list(people.keys())\n",
    "\n",
    "print(ages_list)\n",
    "print(names_list)\n",
    "\n",
    "biggest_age = max(ages_list)\n",
    "index_of_age = ages_list.index(biggest_age)\n",
    "name_of_oldest = names_list[index_of_age]\n",
    "\n",
    "print(f'O sobrenome daquele que tem a maior idade é: {name_of_oldest}')"
   ]
  },
  {
   "cell_type": "markdown",
   "id": "a4a5a2bf-5742-4209-976b-839c645aa622",
   "metadata": {},
   "source": [
    "2. Faça um algoritmo que carregue um dicionário contendo nome e idade (pelo menos 5 pares). Depois de carregar, mostre todos os nomes que tenham idade maior que a média das idades."
   ]
  },
  {
   "cell_type": "code",
   "execution_count": null,
   "id": "a11520fa-8bff-4911-9450-b3cbd45091d6",
   "metadata": {},
   "outputs": [],
   "source": []
  },
  {
   "cell_type": "markdown",
   "id": "f5596b94-fcb7-4031-ad10-c615a131c9de",
   "metadata": {},
   "source": [
    "3. Faça algoritmo que carregue duas listas de cinco elementos numéricos inteiros cada um. A partir dessas duas listas, crie um conjunto da união entre essas duas listas."
   ]
  },
  {
   "cell_type": "code",
   "execution_count": null,
   "id": "6a7b94ea-daaf-4e51-b3b7-2bd194682776",
   "metadata": {},
   "outputs": [],
   "source": []
  }
 ],
 "metadata": {
  "kernelspec": {
   "display_name": "Python 3 (ipykernel)",
   "language": "python",
   "name": "python3"
  },
  "language_info": {
   "codemirror_mode": {
    "name": "ipython",
    "version": 3
   },
   "file_extension": ".py",
   "mimetype": "text/x-python",
   "name": "python",
   "nbconvert_exporter": "python",
   "pygments_lexer": "ipython3",
   "version": "3.13.5"
  }
 },
 "nbformat": 4,
 "nbformat_minor": 5
}
