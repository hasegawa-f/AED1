{
 "cells": [
  {
   "cell_type": "markdown",
   "id": "c33bda7c-dc5f-481b-bcaa-17c1abb44523",
   "metadata": {},
   "source": [
    "## Tuplas"
   ]
  },
  {
   "cell_type": "markdown",
   "id": "529a1946-e093-4002-8e66-283c836da10f",
   "metadata": {},
   "source": [
    "### Exercícios"
   ]
  },
  {
   "cell_type": "markdown",
   "id": "921f7593-ea4d-4c1f-8761-547920f12d70",
   "metadata": {},
   "source": [
    "Fazer um programa em python que:\n",
    "1. Receba uma quantidade ilimitada (não se sabe quantas) de idade de\n",
    "pessoas.\n",
    "2. Guarde essas idades em uma lista.\n",
    "3. Para encerrar a digitação das idades, deve-se digitar: -1\n",
    "4. Em seguida, deve-se gerar uma tupla de idades, a partir da lista.\n",
    "5. Deve-se mostrar as seguintes informações, consultando a tupla:\n",
    "5.1. Qtd de idades digitadas\n",
    "5.2. Média das idades"
   ]
  },
  {
   "cell_type": "code",
   "execution_count": 2,
   "id": "928f8ea2-dec0-42b4-aed2-f761a2c96d6c",
   "metadata": {
    "scrolled": true
   },
   "outputs": [
    {
     "name": "stdout",
     "output_type": "stream",
     "text": [
      "Idades\n",
      "\n"
     ]
    },
    {
     "name": "stdin",
     "output_type": "stream",
     "text": [
      "Digita uma idade. (Para parar, digite -1): 21\n",
      "Digita uma idade. (Para parar, digite -1): 33\n",
      "Digita uma idade. (Para parar, digite -1): 54\n",
      "Digita uma idade. (Para parar, digite -1): 67\n",
      "Digita uma idade. (Para parar, digite -1): 54\n",
      "Digita uma idade. (Para parar, digite -1): 32\n",
      "Digita uma idade. (Para parar, digite -1): 19\n",
      "Digita uma idade. (Para parar, digite -1): -1\n"
     ]
    },
    {
     "name": "stdout",
     "output_type": "stream",
     "text": [
      "Quantiade de idades: 7\n",
      "Média das idades: 40.0\n"
     ]
    }
   ],
   "source": [
    "print('Idades\\n')\n",
    "\n",
    "ages_list = []\n",
    "\n",
    "while True:\n",
    "    new_age = int(input('Digita uma idade. (Para parar, digite -1):'))\n",
    "    if new_age == -1:\n",
    "        break\n",
    "    ages_list.append(new_age)\n",
    "\n",
    "ages_tuple = tuple(ages_list)\n",
    "\n",
    "print(f'Quantidade de idades: {len(ages_tuple)}')\n",
    "\n",
    "ages_avg = sum(ages_tuple) / len(ages_tuple)\n",
    "\n",
    "print(f'Média das idades: {ages_avg}')"
   ]
  },
  {
   "cell_type": "markdown",
   "id": "19d94fc0-b790-4b5c-8f0e-241c25c7d88f",
   "metadata": {},
   "source": [
    "## Dicionários"
   ]
  },
  {
   "cell_type": "markdown",
   "id": "adc2f3d4-debd-417e-9eef-6d2c7cd6b76a",
   "metadata": {},
   "source": [
    "### Exercícios"
   ]
  },
  {
   "cell_type": "markdown",
   "id": "d6b0d99a-0e30-4dc4-8d4a-c2e6708223f0",
   "metadata": {},
   "source": [
    "1.  Faça um algoritmo que carregue um dicionário de 5 elementos onde a chave é o sobrenome da pessoa e o valor a sua idade. Após a finalização da entrada, o algoritmo deve escrever o sobrenome da pessoa com maior idade."
   ]
  },
  {
   "cell_type": "code",
   "execution_count": 6,
   "id": "b9f0f275-dab6-4046-a503-1c81e11ef973",
   "metadata": {},
   "outputs": [
    {
     "name": "stdout",
     "output_type": "stream",
     "text": [
      "Sobrenomes e idades\n",
      "\n"
     ]
    },
    {
     "name": "stdin",
     "output_type": "stream",
     "text": [
      "Digite o sobrenome: A\n",
      "Digite a idade: 18\n",
      "Digite o sobrenome: B\n",
      "Digite a idade: 43\n",
      "Digite o sobrenome: C\n",
      "Digite a idade: 55\n",
      "Digite o sobrenome: D\n",
      "Digite a idade: 76\n",
      "Digite o sobrenome: E\n",
      "Digite a idade: 32\n"
     ]
    },
    {
     "name": "stdout",
     "output_type": "stream",
     "text": [
      "{'A': 18, 'B': 43, 'C': 55, 'D': 76, 'E': 32}\n",
      "[18, 43, 55, 76, 32]\n",
      "['A', 'B', 'C', 'D', 'E']\n",
      "O sobrenome daquele que tem a maior idade é: D\n"
     ]
    }
   ],
   "source": [
    "print('Sobrenomes e idades\\n')\n",
    "\n",
    "people = {}\n",
    "\n",
    "for i in range (0, 5):\n",
    "    name = input('Digite o sobrenome:')\n",
    "    age = int(input('Digite a idade:'))\n",
    "    people[name] = age\n",
    "\n",
    "print(people)\n",
    "\n",
    "ages_list = list(people.values())\n",
    "names_list = list(people.keys())\n",
    "\n",
    "print(ages_list)\n",
    "print(names_list)\n",
    "\n",
    "biggest_age = max(ages_list)\n",
    "index_of_age = ages_list.index(biggest_age)\n",
    "name_of_oldest = names_list[index_of_age]\n",
    "\n",
    "print(f'O sobrenome daquele que tem a maior idade é: {name_of_oldest}')"
   ]
  },
  {
   "cell_type": "markdown",
   "id": "a4a5a2bf-5742-4209-976b-839c645aa622",
   "metadata": {},
   "source": [
    "2. Faça um algoritmo que carregue um dicionário contendo nome e idade (pelo menos 5 pares). Depois de carregar, mostre todos os nomes que tenham idade maior que a média das idades."
   ]
  },
  {
   "cell_type": "code",
   "execution_count": 6,
   "id": "a11520fa-8bff-4911-9450-b3cbd45091d6",
   "metadata": {},
   "outputs": [
    {
     "name": "stdout",
     "output_type": "stream",
     "text": [
      "Idades maiores que a média\n",
      "\n"
     ]
    },
    {
     "name": "stdin",
     "output_type": "stream",
     "text": [
      "Digite o nome <digite S para sair> Adilson\n",
      "Digite a idade dessa pessoa 55\n",
      "Digite o nome <digite S para sair> Linaldo\n",
      "Digite a idade dessa pessoa 23\n",
      "Digite o nome <digite S para sair> Zileide\n",
      "Digite a idade dessa pessoa 34\n",
      "Digite o nome <digite S para sair> Tabilson\n",
      "Digite a idade dessa pessoa 76\n",
      "Digite o nome <digite S para sair> Jovison\n",
      "Digite a idade dessa pessoa 18\n",
      "Digite o nome <digite S para sair> s\n"
     ]
    },
    {
     "name": "stdout",
     "output_type": "stream",
     "text": [
      "\n",
      "Média das idades: 41.2\n",
      "Idades maiores que a média:\n",
      "Nome: Adilson; Idade: 55\n",
      "Nome: Tabilson; Idade: 76\n"
     ]
    }
   ],
   "source": [
    "print('Idades maiores que a média\\n')\n",
    "\n",
    "people_2 = {}\n",
    "\n",
    "while True:\n",
    "    name = input('Digite o nome <digite S para sair>')\n",
    "    if name == 's' or name == 'S':\n",
    "        break\n",
    "    age = int(input('Digite a idade dessa pessoa'))\n",
    "    people_2[name] = age\n",
    "\n",
    "# print(people_2)\n",
    "\n",
    "ages_list_2 = list(people_2.values())\n",
    "\n",
    "ages_avg = sum(ages_list_2) / len(ages_list_2)\n",
    "\n",
    "print(f'\\nMédia das idades: {ages_avg}')\n",
    "print('Idades maiores que a média:')\n",
    "\n",
    "for person in people_2:\n",
    "    if people_2[person] > ages_avg:\n",
    "        print(f'Nome: {person}; Idade: {people_2[person]}')\n"
   ]
  },
  {
   "cell_type": "markdown",
   "id": "f5596b94-fcb7-4031-ad10-c615a131c9de",
   "metadata": {},
   "source": [
    "3. Faça algoritmo que carregue duas listas de cinco elementos numéricos inteiros cada um. A partir dessas duas listas, crie um conjunto da união entre essas duas listas."
   ]
  },
  {
   "cell_type": "code",
   "execution_count": 7,
   "id": "6a7b94ea-daaf-4e51-b3b7-2bd194682776",
   "metadata": {},
   "outputs": [
    {
     "name": "stdout",
     "output_type": "stream",
     "text": [
      "União de números em duas listas\n",
      "\n",
      "Lista 1\n"
     ]
    },
    {
     "name": "stdin",
     "output_type": "stream",
     "text": [
      "Digite um número inteiro: 22\n",
      "Digite um número inteiro: 66\n",
      "Digite um número inteiro: 34\n",
      "Digite um número inteiro: 98\n",
      "Digite um número inteiro: 45\n"
     ]
    },
    {
     "name": "stdout",
     "output_type": "stream",
     "text": [
      "\n",
      "Lista 2\n"
     ]
    },
    {
     "name": "stdin",
     "output_type": "stream",
     "text": [
      "Digite um número inteiro: 34\n",
      "Digite um número inteiro: 56\n",
      "Digite um número inteiro: 76\n",
      "Digite um número inteiro: 45\n",
      "Digite um número inteiro: 99\n"
     ]
    },
    {
     "name": "stdout",
     "output_type": "stream",
     "text": [
      "\n",
      "União das listas: {66, 34, 98, 99, 76, 45, 22, 56}\n"
     ]
    }
   ],
   "source": [
    "print('União de números em duas listas\\n')\n",
    "\n",
    "list_1 = []\n",
    "list_2 = []\n",
    "\n",
    "print('Lista 1')\n",
    "for i in range(0, 5):\n",
    "    number = int(input('Digite um número inteiro:'))\n",
    "    list_1.append(number)\n",
    "\n",
    "print('\\nLista 2')\n",
    "for i in range(0, 5):\n",
    "    number = int(input('Digite um número inteiro:'))\n",
    "    list_2.append(number)\n",
    "\n",
    "set_1 = set(list_1)\n",
    "set_2 = set(list_2)\n",
    "\n",
    "union_set = set_1 | set_2\n",
    "\n",
    "print(f'\\nUnião das listas: {union_set}')"
   ]
  }
 ],
 "metadata": {
  "kernelspec": {
   "display_name": "Python 3 (ipykernel)",
   "language": "python",
   "name": "python3"
  },
  "language_info": {
   "codemirror_mode": {
    "name": "ipython",
    "version": 3
   },
   "file_extension": ".py",
   "mimetype": "text/x-python",
   "name": "python",
   "nbconvert_exporter": "python",
   "pygments_lexer": "ipython3",
   "version": "3.12.3"
  }
 },
 "nbformat": 4,
 "nbformat_minor": 5
}
