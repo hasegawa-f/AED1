{
 "cells": [
  {
   "cell_type": "markdown",
   "id": "a13f7a49-b6ad-4596-96b3-a34bcaa9aa9d",
   "metadata": {},
   "source": [
    "### Aula 10 - Desafio 01"
   ]
  },
  {
   "cell_type": "code",
   "execution_count": 8,
   "id": "7707cbbb-fe8c-4a4e-be48-c378984e9a4d",
   "metadata": {
    "scrolled": true
   },
   "outputs": [
    {
     "name": "stdout",
     "output_type": "stream",
     "text": [
      "Contador de palavras em uma frase\n",
      "\n"
     ]
    },
    {
     "name": "stdin",
     "output_type": "stream",
     "text": [
      "Escreva uma frase studying data science as a data starter may seen hard but it will prove nice as the data world is rich\n"
     ]
    },
    {
     "name": "stdout",
     "output_type": "stream",
     "text": [
      "{'studying': 1, 'data': 3, 'science': 1, 'as': 2, 'a': 1, 'starter': 1, 'may': 1, 'seen': 1, 'hard': 1, 'but': 1, 'it': 1, 'will': 1, 'prove': 1, 'nice': 1, 'the': 1, 'world': 1, 'is': 1, 'rich': 1}\n"
     ]
    }
   ],
   "source": [
    "print('Contador de palavras em uma frase\\n')\n",
    "\n",
    "sentence = input('Escreva uma frase')\n",
    "sentence_list = sentence.split()\n",
    "words_counter = {}\n",
    "\n",
    "for word in sentence_list:\n",
    "    words_counter[word] = 0\n",
    "\n",
    "words_keys = words_counter.keys()\n",
    "\n",
    "# for word_key in words_counter:\n",
    "for word in sentence_list:\n",
    "    if word in words_counter:\n",
    "        words_counter[word] += 1\n",
    "    \n",
    "\n",
    "print(words_counter)"
   ]
  },
  {
   "cell_type": "markdown",
   "id": "a479994f-51f8-4710-83aa-1f385f0939d4",
   "metadata": {},
   "source": [
    "### Aula 10 - Desafio 02"
   ]
  },
  {
   "cell_type": "code",
   "execution_count": 18,
   "id": "beeea6af-0168-4e2b-931b-72e3fa77f973",
   "metadata": {},
   "outputs": [
    {
     "name": "stdout",
     "output_type": "stream",
     "text": [
      "Análise de vendas\n",
      "\n",
      "Valor total de vendas: R$3432.94\n",
      "Valor médio de vendas: R$343.29\n",
      "\n",
      "Vendedor com maior venda: Bruno. Valor da venda: R$1200.0\n",
      "\n",
      "O(A) vendedor(a) com maior faturamento na semana foi Bruno com um faturamento de R$1280.00\n",
      "\n",
      "Vendedores sem venda na semana:\n",
      "Gabriela\n",
      "Heitor\n",
      "Iris\n",
      "Joao\n",
      "Maria\n",
      "Lucas\n",
      "Sofia\n"
     ]
    }
   ],
   "source": [
    "print('Análise de vendas\\n')\n",
    "\n",
    "valores_vendas = [150.50, 80.00, 230.25, 500.00, 75.80, 1200.00, 45.99, 300.00, 650.50, 199.90]\n",
    "vendedores_vendas = [\"Ana\", \"Bruno\", \"Carla\", \"Ana\", \"Daniel\", \"Bruno\", \"Carla\", \"Ana\", \"Elisa\", \"Fabio\"]\n",
    "todos_vendedores = [\"Ana\", \"Bruno\", \"Carla\", \"Daniel\", \"Elisa\", \"Fabio\", \"Gabriela\", \"Heitor\", \"Iris\", \"Joao\", \"Maria\", \"Lucas\", \"Sofia\"]\n",
    "\n",
    "total_vendas = sum(valores_vendas)\n",
    "media_vendas = total_vendas / len(valores_vendas)\n",
    "\n",
    "print(f'Valor total de vendas: R${total_vendas}')\n",
    "print(f'Valor médio de vendas: R${media_vendas:.2f}')\n",
    "\n",
    "maior_venda = max(valores_vendas)\n",
    "indice_maior_venda = valores_vendas.index(maior_venda)\n",
    "vendedor_maior_venda = vendedores_vendas[indice_maior_venda]\n",
    "\n",
    "print(f'\\nVendedor com maior venda: {vendedor_maior_venda}. Valor da venda: R${maior_venda}')\n",
    "\n",
    "faturamento_por_vendedor = {}\n",
    "\n",
    "for vendedor in todos_vendedores:\n",
    "    faturamento_por_vendedor[vendedor] = 0\n",
    "\n",
    "for i in range(len(valores_vendas)):\n",
    "    valor_venda = valores_vendas[i]\n",
    "    vendedor = vendedores_vendas[i]\n",
    "    faturamento_por_vendedor[vendedor] += valor_venda\n",
    "\n",
    "maior_faturamento = 0\n",
    "vendedor_maior_faturamento = ''\n",
    "\n",
    "for vendedor in faturamento_por_vendedor:\n",
    "    if faturamento_por_vendedor[vendedor] > maior_faturamento:\n",
    "        maior_faturamento = faturamento_por_vendedor[vendedor]\n",
    "        vendedor_maior_faturamento = vendedor\n",
    "\n",
    "print(f'\\nO(A) vendedor(a) com maior faturamento na semana foi {vendedor_maior_faturamento} com um faturamento de R${maior_faturamento:.2f}')\n",
    "\n",
    "print('\\nVendedores sem venda na semana:')\n",
    "for vendedor in faturamento_por_vendedor:\n",
    "    if faturamento_por_vendedor[vendedor] == 0:\n",
    "        print(vendedor)"
   ]
  }
 ],
 "metadata": {
  "kernelspec": {
   "display_name": "Python 3 (ipykernel)",
   "language": "python",
   "name": "python3"
  },
  "language_info": {
   "codemirror_mode": {
    "name": "ipython",
    "version": 3
   },
   "file_extension": ".py",
   "mimetype": "text/x-python",
   "name": "python",
   "nbconvert_exporter": "python",
   "pygments_lexer": "ipython3",
   "version": "3.12.3"
  }
 },
 "nbformat": 4,
 "nbformat_minor": 5
}
